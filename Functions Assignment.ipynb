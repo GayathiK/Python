{
 "cells": [
  {
   "cell_type": "markdown",
   "id": "474a23f8",
   "metadata": {},
   "source": [
    "# Create a function to display the subfields in AI"
   ]
  },
  {
   "cell_type": "code",
   "execution_count": 1,
   "id": "6c01e2fb",
   "metadata": {},
   "outputs": [],
   "source": [
    "def Subfields():\n",
    "    list = ['Machine Learning', 'Neural Networks', 'Vision', 'Robotics', 'Speech Processing', 'Natural Language Processing']\n",
    "    print(\"Sub-fields in AI are:\")\n",
    "    for item in list:\n",
    "        print(item)\n",
    "        "
   ]
  },
  {
   "cell_type": "code",
   "execution_count": 3,
   "id": "0665866d",
   "metadata": {},
   "outputs": [
    {
     "name": "stdout",
     "output_type": "stream",
     "text": [
      "Sub-fields in AI are:\n",
      "Machine Learning\n"
     ]
    },
    {
     "data": {
      "text/plain": [
       "'Machine Learning'"
      ]
     },
     "execution_count": 3,
     "metadata": {},
     "output_type": "execute_result"
    }
   ],
   "source": [
    "Subfields()"
   ]
  },
  {
   "cell_type": "code",
   "execution_count": 9,
   "id": "7d1ca371",
   "metadata": {},
   "outputs": [],
   "source": [
    "list = ['Machine Learning', 'Neural Networks', 'Vision', 'Robotics', 'Speech Processing', 'Natural Language Processing']\n",
    "def Subfields():\n",
    "    print(\"Sub-fields in AI are:\")\n",
    "    for item in list:\n",
    "        print(item)"
   ]
  },
  {
   "cell_type": "code",
   "execution_count": 10,
   "id": "ee8f3684",
   "metadata": {},
   "outputs": [
    {
     "name": "stdout",
     "output_type": "stream",
     "text": [
      "Sub-fields in AI are:\n",
      "Machine Learning\n",
      "Neural Networks\n",
      "Vision\n",
      "Robotics\n",
      "Speech Processing\n",
      "Natural Language Processing\n"
     ]
    }
   ],
   "source": [
    "Subfields()"
   ]
  },
  {
   "cell_type": "markdown",
   "id": "3d111e61",
   "metadata": {},
   "source": [
    "# Create a function that checks whether the given number is Odd or Even"
   ]
  },
  {
   "cell_type": "code",
   "execution_count": 18,
   "id": "c59b2d19",
   "metadata": {},
   "outputs": [],
   "source": [
    "def OddEven(number):\n",
    "    if(number%2 == 0):\n",
    "        message = \"Even number\"\n",
    "    else:\n",
    "        message = \"Odd number\"\n",
    "    return message"
   ]
  },
  {
   "cell_type": "code",
   "execution_count": 20,
   "id": "60b8d94f",
   "metadata": {},
   "outputs": [
    {
     "name": "stdout",
     "output_type": "stream",
     "text": [
      "Enter a number : 52452\n",
      "52452  is Even number\n"
     ]
    }
   ],
   "source": [
    "num = int(input(\"Enter a number : \"))\n",
    "msg = OddEven(num)\n",
    "if(msg == \"Even number\"):\n",
    "    print(num,\" is Even number\")\n",
    "else:\n",
    "    print(num,\" is Odd number\")"
   ]
  },
  {
   "cell_type": "markdown",
   "id": "ff150cbb",
   "metadata": {},
   "source": [
    "# Create a function that tells elegibility of marriage for male and female according to their age limit like 21 for male and 18 for female"
   ]
  },
  {
   "cell_type": "code",
   "execution_count": 16,
   "id": "8b10554d",
   "metadata": {},
   "outputs": [],
   "source": [
    "def Eligible():\n",
    "\n",
    "    gender = input(\"Your Gender : \")\n",
    "    age = int(input(\"Your Age : \"))\n",
    "    if(gender == \"Male\" and age >= 21):\n",
    "            msg = \"ELIGIBLE\"\n",
    "    elif(gender == \"Female\" and age >= 18):\n",
    "            msg = \"ELIGIBLE\"\n",
    "    else:\n",
    "        msg = \"NOT ELIGIBLE\"\n",
    "    return msg"
   ]
  },
  {
   "cell_type": "code",
   "execution_count": 17,
   "id": "d2cc834a",
   "metadata": {},
   "outputs": [
    {
     "name": "stdout",
     "output_type": "stream",
     "text": [
      "Your Gender : Female\n",
      "Your Age : 19\n",
      "ELIGIBLE\n"
     ]
    }
   ],
   "source": [
    "eligibility = Eligible()\n",
    "print(eligibility)"
   ]
  },
  {
   "cell_type": "markdown",
   "id": "63259db0",
   "metadata": {},
   "source": [
    "# calculate the percentage of your 10th mark"
   ]
  },
  {
   "cell_type": "code",
   "execution_count": 9,
   "id": "ece307ab",
   "metadata": {},
   "outputs": [],
   "source": [
    "def percentage():\n",
    "    sub1 = int(input(\"Subject 1 = \"))\n",
    "    sub2 = int(input(\"Subject 2 = \"))\n",
    "    sub3 = int(input(\"Subject 3 = \"))\n",
    "    sub4 = int(input(\"Subject 4 = \"))\n",
    "    sub5 = int(input(\"Subject 5 = \"))\n",
    "    Total = sub1 + sub2 + sub3 + sub4 + sub5\n",
    "    print(\"Total : \", Total)\n",
    "    \n",
    "    perct = (Total / 500) * 100\n",
    "    print(\"Percentage : \", perct)\n",
    "    return"
   ]
  },
  {
   "cell_type": "code",
   "execution_count": 10,
   "id": "c3c8a797",
   "metadata": {},
   "outputs": [
    {
     "name": "stdout",
     "output_type": "stream",
     "text": [
      "Subject 1 = 98\n",
      "Subject 2 = 87\n",
      "Subject 3 = 95\n",
      "Subject 4 = 95\n",
      "Subject 5 = 93\n",
      "Total :  468\n",
      "Percentage :  93.60000000000001\n"
     ]
    }
   ],
   "source": [
    "percentage()"
   ]
  },
  {
   "cell_type": "markdown",
   "id": "28c18542",
   "metadata": {},
   "source": [
    "# print area and perimeter of triangle using functions"
   ]
  },
  {
   "cell_type": "code",
   "execution_count": 19,
   "id": "f9e8d9fa",
   "metadata": {},
   "outputs": [],
   "source": [
    "def area():\n",
    "    breadth = int(input(\"Breadth : \"))\n",
    "    height = int(input(\"Height : \"))\n",
    "    area = (height * breadth)/2\n",
    "    return area\n",
    "    "
   ]
  },
  {
   "cell_type": "code",
   "execution_count": 20,
   "id": "67f49f24",
   "metadata": {},
   "outputs": [
    {
     "name": "stdout",
     "output_type": "stream",
     "text": [
      "Breadth : 34\n",
      "Height : 32\n",
      "Area Formula : ((Height*Breadth)/ 2)\n",
      "Area of Triangle :  544.0\n"
     ]
    }
   ],
   "source": [
    "Area = area()\n",
    "print(\"Area Formula : ((Height*Breadth)/ 2)\")\n",
    "print(\"Area of Triangle : \", Area)"
   ]
  },
  {
   "cell_type": "code",
   "execution_count": 21,
   "id": "bf1589c1",
   "metadata": {},
   "outputs": [],
   "source": [
    "def perimeter():\n",
    "    height1 = int(input(\"Height1 : \"))\n",
    "    height2 = int(input(\"Height2 : \"))\n",
    "    breadth = int(input(\"Breadth : \"))\n",
    "    perimeter = height1 + height2 + breadth\n",
    "    return perimeter"
   ]
  },
  {
   "cell_type": "code",
   "execution_count": 22,
   "id": "4f7e44d8",
   "metadata": {},
   "outputs": [
    {
     "name": "stdout",
     "output_type": "stream",
     "text": [
      "Height1 : 2\n",
      "Height2 : 4\n",
      "Breadth : 4\n",
      "Perimeter Formula : Height1 + Height2 + Breadth\n",
      "Perimeter of Triangle :  10\n"
     ]
    }
   ],
   "source": [
    "Perimeter = perimeter()\n",
    "print(\"Perimeter Formula : Height1 + Height2 + Breadth\")\n",
    "print(\"Perimeter of Triangle : \", Perimeter)"
   ]
  },
  {
   "cell_type": "code",
   "execution_count": null,
   "id": "47e24123",
   "metadata": {},
   "outputs": [],
   "source": []
  }
 ],
 "metadata": {
  "kernelspec": {
   "display_name": "Python 3 (ipykernel)",
   "language": "python",
   "name": "python3"
  },
  "language_info": {
   "codemirror_mode": {
    "name": "ipython",
    "version": 3
   },
   "file_extension": ".py",
   "mimetype": "text/x-python",
   "name": "python",
   "nbconvert_exporter": "python",
   "pygments_lexer": "ipython3",
   "version": "3.11.5"
  }
 },
 "nbformat": 4,
 "nbformat_minor": 5
}
