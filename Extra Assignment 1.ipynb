{
 "cells": [
  {
   "cell_type": "code",
   "execution_count": 1,
   "id": "3e75e7ad",
   "metadata": {},
   "outputs": [
    {
     "name": "stdout",
     "output_type": "stream",
     "text": [
      "HOPE AI\n"
     ]
    }
   ],
   "source": [
    "print(\"HOPE AI\")"
   ]
  },
  {
   "cell_type": "code",
   "execution_count": 3,
   "id": "f1bf6293",
   "metadata": {},
   "outputs": [
    {
     "name": "stdout",
     "output_type": "stream",
     "text": [
      "Enter your institute name : HOPE AI\n"
     ]
    }
   ],
   "source": [
    "name = input(\"Enter your institute name : \")"
   ]
  },
  {
   "cell_type": "code",
   "execution_count": 4,
   "id": "b9f27639",
   "metadata": {},
   "outputs": [
    {
     "name": "stdout",
     "output_type": "stream",
     "text": [
      "Enter your name : Gayathri\n",
      "Enter your age : 30\n",
      "Enter your school name : PACR school\n",
      "Enter your degree : B.Tech IT\n"
     ]
    }
   ],
   "source": [
    "myName = input(\"Enter your name : \")\n",
    "age = int(input(\"Enter your age : \"))\n",
    "schName = input(\"Enter your school name : \")\n",
    "degree = input(\"Enter your degree : \")"
   ]
  },
  {
   "cell_type": "code",
   "execution_count": 5,
   "id": "8e33cbd3",
   "metadata": {},
   "outputs": [
    {
     "name": "stdout",
     "output_type": "stream",
     "text": [
      "a =  43\n",
      "b =  34\n",
      "add =  77\n"
     ]
    }
   ],
   "source": [
    "num1 = 43\n",
    "num2 = 34\n",
    "add = num1 +num2\n",
    "print(\"a = \",num1)\n",
    "print(\"b = \",num2)\n",
    "print(\"add = \",add)"
   ]
  },
  {
   "cell_type": "code",
   "execution_count": 7,
   "id": "fcd0c210",
   "metadata": {},
   "outputs": [
    {
     "name": "stdout",
     "output_type": "stream",
     "text": [
      "a =  43\n",
      "b =  34\n",
      "Sub =  9\n"
     ]
    }
   ],
   "source": [
    "num1 = 43\n",
    "num2 = 34\n",
    "sub = num1 - num2\n",
    "print(\"a = \",num1)\n",
    "print(\"b = \",num2)\n",
    "print(\"Sub = \",sub)"
   ]
  },
  {
   "cell_type": "code",
   "execution_count": 9,
   "id": "e6d057f0",
   "metadata": {},
   "outputs": [
    {
     "name": "stdout",
     "output_type": "stream",
     "text": [
      "a =  63\n",
      "b =  97\n",
      "Mul =  6111\n"
     ]
    }
   ],
   "source": [
    "num1 = 63\n",
    "num2 = 97\n",
    "mul = num1 * num2\n",
    "print(\"a = \",num1)\n",
    "print(\"b = \",num2)\n",
    "print(\"Mul = \",mul)"
   ]
  },
  {
   "cell_type": "code",
   "execution_count": 10,
   "id": "242641e5",
   "metadata": {},
   "outputs": [
    {
     "name": "stdout",
     "output_type": "stream",
     "text": [
      "a =  76\n",
      "b =  31\n",
      "Float Div =  2.4516129032258065\n"
     ]
    }
   ],
   "source": [
    "num1 = 76\n",
    "num2 = 31\n",
    "fDiv = num1 / num2\n",
    "print(\"a = \",num1)\n",
    "print(\"b = \",num2)\n",
    "print(\"Float Div = \",fDiv)"
   ]
  },
  {
   "cell_type": "code",
   "execution_count": 11,
   "id": "dabdb746",
   "metadata": {},
   "outputs": [
    {
     "name": "stdout",
     "output_type": "stream",
     "text": [
      "a =  76\n",
      "b =  31\n",
      "Floor Div =  2\n"
     ]
    }
   ],
   "source": [
    "num1 = 76\n",
    "num2 = 31\n",
    "flDiv = num1 // num2\n",
    "print(\"a = \",num1)\n",
    "print(\"b = \",num2)\n",
    "print(\"Floor Div = \",flDiv)"
   ]
  },
  {
   "cell_type": "code",
   "execution_count": 12,
   "id": "7955dbec",
   "metadata": {},
   "outputs": [
    {
     "name": "stdout",
     "output_type": "stream",
     "text": [
      "a =  76\n",
      "b =  31\n",
      "Modulo =  14\n"
     ]
    }
   ],
   "source": [
    "num1 = 76\n",
    "num2 = 31\n",
    "modulo = num1 % num2\n",
    "print(\"a = \",num1)\n",
    "print(\"b = \",num2)\n",
    "print(\"Modulo = \",modulo)"
   ]
  },
  {
   "cell_type": "code",
   "execution_count": 14,
   "id": "fc7a5d05",
   "metadata": {},
   "outputs": [
    {
     "name": "stdout",
     "output_type": "stream",
     "text": [
      "a =  4\n",
      "b =  4\n",
      "Power =  256\n"
     ]
    }
   ],
   "source": [
    "num1 = 4\n",
    "num2 = 4\n",
    "power = pow(num1,num2)\n",
    "print(\"a = \",num1)\n",
    "print(\"b = \",num2)\n",
    "print(\"Power = \",power)"
   ]
  },
  {
   "cell_type": "code",
   "execution_count": null,
   "id": "b07988c8",
   "metadata": {},
   "outputs": [],
   "source": []
  }
 ],
 "metadata": {
  "kernelspec": {
   "display_name": "Python 3 (ipykernel)",
   "language": "python",
   "name": "python3"
  },
  "language_info": {
   "codemirror_mode": {
    "name": "ipython",
    "version": 3
   },
   "file_extension": ".py",
   "mimetype": "text/x-python",
   "name": "python",
   "nbconvert_exporter": "python",
   "pygments_lexer": "ipython3",
   "version": "3.11.5"
  }
 },
 "nbformat": 4,
 "nbformat_minor": 5
}
