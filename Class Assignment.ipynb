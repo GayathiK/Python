{
 "cells": [
  {
   "cell_type": "markdown",
   "id": "fe9ff6d2",
   "metadata": {},
   "source": [
    "# Create a class and function, and list out the items in the list"
   ]
  },
  {
   "cell_type": "code",
   "execution_count": 15,
   "id": "fa726998",
   "metadata": {},
   "outputs": [],
   "source": [
    "class SubfieldsInAI():\n",
    "    \n",
    "    def Subfields():\n",
    "        subFieldsInAI = ['Machine Learning', 'Neural Networks', 'Vision', 'Robotics', 'Speech Processing', 'Natural Language Processing']\n",
    "        print(\"Sub-fields in AI are:\")\n",
    "        for item in subFieldsInAI:\n",
    "            print(item)\n",
    "        return"
   ]
  },
  {
   "cell_type": "code",
   "execution_count": 4,
   "id": "08818985",
   "metadata": {},
   "outputs": [
    {
     "name": "stdout",
     "output_type": "stream",
     "text": [
      "Sub-fields in AI are:\n",
      "Machine Learning\n",
      "Neural Networks\n",
      "Vision\n",
      "Robotics\n",
      "Speech Processing\n",
      "Natural Language Processing\n"
     ]
    }
   ],
   "source": [
    "SubfieldsInAI.Subfields()"
   ]
  },
  {
   "cell_type": "markdown",
   "id": "e9063508",
   "metadata": {},
   "source": [
    "# Create a function that checks whether the given number is Odd or Even"
   ]
  },
  {
   "cell_type": "code",
   "execution_count": 6,
   "id": "14850b34",
   "metadata": {},
   "outputs": [],
   "source": [
    "class OddEven():\n",
    "    def OddEven(number):\n",
    "        if(number%2 == 0):\n",
    "            message = \"Even number\"\n",
    "        else:\n",
    "            message = \"Odd number\"\n",
    "        return message"
   ]
  },
  {
   "cell_type": "code",
   "execution_count": 8,
   "id": "a5dea785",
   "metadata": {},
   "outputs": [
    {
     "name": "stdout",
     "output_type": "stream",
     "text": [
      "Enter a number : 5964\n",
      "5964  is Even number\n"
     ]
    }
   ],
   "source": [
    "num = int(input(\"Enter a number : \"))\n",
    "msg = OddEven.OddEven(num)\n",
    "if(msg == \"Even number\"):\n",
    "    print(num,\" is Even number\")\n",
    "else:\n",
    "    print(num,\" is Odd number\")"
   ]
  },
  {
   "cell_type": "markdown",
   "id": "c9beb870",
   "metadata": {},
   "source": [
    "# Create a function that tells elegibility of marriage for male and female according to their age limit like 21 for male and 18 for female"
   ]
  },
  {
   "cell_type": "code",
   "execution_count": 9,
   "id": "45513e6a",
   "metadata": {},
   "outputs": [],
   "source": [
    "class ElegiblityForMarriage():\n",
    "    def Eligible():\n",
    "        gender = input(\"Your Gender : \")\n",
    "        age = int(input(\"Your Age : \"))\n",
    "        if(gender == \"Male\" and age >= 21):\n",
    "                msg = \"ELIGIBLE\"\n",
    "        elif(gender == \"Female\" and age >= 18):\n",
    "                msg = \"ELIGIBLE\"\n",
    "        else:\n",
    "            msg = \"NOT ELIGIBLE\"\n",
    "        return msg"
   ]
  },
  {
   "cell_type": "code",
   "execution_count": 10,
   "id": "e6301b6a",
   "metadata": {},
   "outputs": [
    {
     "name": "stdout",
     "output_type": "stream",
     "text": [
      "Your Gender : Male\n",
      "Your Age : 25\n",
      "ELIGIBLE\n"
     ]
    }
   ],
   "source": [
    "eligibility = ElegiblityForMarriage.Eligible()\n",
    "print(eligibility)"
   ]
  },
  {
   "cell_type": "markdown",
   "id": "4c50ca06",
   "metadata": {},
   "source": [
    "# calculate the percentage of your 10th mark"
   ]
  },
  {
   "cell_type": "code",
   "execution_count": 11,
   "id": "9a93e19a",
   "metadata": {},
   "outputs": [],
   "source": [
    "class FindPercent():\n",
    "    def percentage():\n",
    "        sub1 = int(input(\"Subject 1 = \"))\n",
    "        sub2 = int(input(\"Subject 2 = \"))\n",
    "        sub3 = int(input(\"Subject 3 = \"))\n",
    "        sub4 = int(input(\"Subject 4 = \"))\n",
    "        sub5 = int(input(\"Subject 5 = \"))\n",
    "        Total = sub1 + sub2 + sub3 + sub4 + sub5\n",
    "        print(\"Total : \", Total)\n",
    "\n",
    "        perct = (Total / 500) * 100\n",
    "        print(\"Percentage : \", perct)\n",
    "        return"
   ]
  },
  {
   "cell_type": "code",
   "execution_count": 12,
   "id": "25386ef9",
   "metadata": {},
   "outputs": [
    {
     "name": "stdout",
     "output_type": "stream",
     "text": [
      "Subject 1 = 97\n",
      "Subject 2 = 87\n",
      "Subject 3 = 95\n",
      "Subject 4 = 95\n",
      "Subject 5 = 93\n",
      "Total :  467\n",
      "Percentage :  93.4\n"
     ]
    }
   ],
   "source": [
    "FindPercent.percentage()"
   ]
  },
  {
   "cell_type": "markdown",
   "id": "3d96bab3",
   "metadata": {},
   "source": [
    "# print area and perimeter of triangle using functions"
   ]
  },
  {
   "cell_type": "code",
   "execution_count": 16,
   "id": "244bed4d",
   "metadata": {},
   "outputs": [],
   "source": [
    "class triangle():\n",
    "    def triangle():\n",
    "        breadth = int(input(\"Breadth : \"))\n",
    "        height = int(input(\"Height : \"))\n",
    "        area = (height * breadth)/2\n",
    "        print(\"Area Formula : ((Height*Breadth)/ 2)\")\n",
    "        print(\"Area of Triangle : \", area)\n",
    "        \n",
    "        height1 = int(input(\"Height1 : \"))\n",
    "        height2 = int(input(\"Height2 : \"))\n",
    "        breadth = int(input(\"Breadth : \"))\n",
    "        perimeter = height1 + height2 + breadth\n",
    "        print(\"Perimeter Formula : Height1 + Height2 + Breadth\")\n",
    "        print(\"Perimeter of Triangle : \", perimeter)\n",
    "        return"
   ]
  },
  {
   "cell_type": "code",
   "execution_count": 14,
   "id": "cc240566",
   "metadata": {},
   "outputs": [
    {
     "name": "stdout",
     "output_type": "stream",
     "text": [
      "Breadth : 32\n",
      "Height : 34\n",
      "Area Formula : ((Height*Breadth)/ 2)\n",
      "Area of Triangle :  544.0\n",
      "Height1 : 2\n",
      "Height2 : 4\n",
      "Breadth : 4\n",
      "Perimeter Formula : Height1 + Height2 + Breadth\n",
      "Perimeter of Triangle :  10\n"
     ]
    }
   ],
   "source": [
    "triangle.triangle()"
   ]
  },
  {
   "cell_type": "code",
   "execution_count": null,
   "id": "23443e49",
   "metadata": {},
   "outputs": [],
   "source": []
  }
 ],
 "metadata": {
  "kernelspec": {
   "display_name": "Python 3 (ipykernel)",
   "language": "python",
   "name": "python3"
  },
  "language_info": {
   "codemirror_mode": {
    "name": "ipython",
    "version": 3
   },
   "file_extension": ".py",
   "mimetype": "text/x-python",
   "name": "python",
   "nbconvert_exporter": "python",
   "pygments_lexer": "ipython3",
   "version": "3.11.5"
  }
 },
 "nbformat": 4,
 "nbformat_minor": 5
}
