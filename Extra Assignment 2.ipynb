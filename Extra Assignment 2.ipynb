{
 "cells": [
  {
   "cell_type": "markdown",
   "id": "d3d3ec94",
   "metadata": {},
   "source": [
    "|72000\n",
    "/# pri4\n",
    "n\n",
    "t\n",
    "\n",
    "\n",
    "\n",
    "\n",
    "\n",
    "\n",
    "\n",
    "\n",
    "\n",
    "\n",
    "\n",
    "\n",
    "\n",
    "\n",
    ".010\n",
    "f31\n",
    "30to 20 using range12200b'\n",
    "456+++\n",
    "0022c\n",
    "\n",
    "\n",
    "\\]\n",
    "ghu999---*********************mxc cyvbnm,./0"
   ]
  },
  {
   "cell_type": "code",
   "execution_count": 1,
   "id": "6f170a0a",
   "metadata": {},
   "outputs": [
    {
     "name": "stdout",
     "output_type": "stream",
     "text": [
      "0\n",
      "1\n",
      "2\n",
      "3\n",
      "4\n",
      "5\n",
      "6\n",
      "7\n",
      "8\n",
      "9\n",
      "10\n",
      "11\n",
      "12\n",
      "13\n",
      "14\n",
      "15\n",
      "16\n",
      "17\n",
      "18\n",
      "19\n"
     ]
    }
   ],
   "source": [
    "\n",
    "\n",
    "\n",
    "or item in range(0,20):\n",
    "    print(item)- "
   ]
  },
  {
   "cell_type": "markdown",
   "id": "a0c661c5",
   "metadata": {},
   "source": [
    "# print range 10 to 20"
   ]
  },
  {
   "cell_type": "code",
   "execution_count": 5,
   "id": "69a51700",
   "metadata": {},
   "outputs": [
    {
     "name": "stdout",
     "output_type": "stream",
     "text": [
      "10 11 12 13 14 15 16 17 18 19 "
     ]
    }
   ],
   "source": [
    "for num in range(10,20):\n",
    "    print(num, end = (' '))"
   ]
  },
  {
   "cell_type": "markdown",
   "id": "dc561db9",
   "metadata": {},
   "source": [
    "# Print number of items in the list by using 'len'"
   ]
  },
  {
   "cell_type": "code",
   "execution_count": 6,
   "id": "3ba25f43",
   "metadata": {},
   "outputs": [
    {
     "name": "stdout",
     "output_type": "stream",
     "text": [
      "Number of item in the List2 : \n",
      "7\n"
     ]
    }
   ],
   "source": [
    "list = [10, 20, 14, 55, 43, 87, 76]\n",
    "print(\"Number of item in the List2 : \")\n",
    "print(len(list))"
   ]
  },
  {
   "cell_type": "code",
   "execution_count": 7,
   "id": "b7cb156f",
   "metadata": {},
   "outputs": [
    {
     "name": "stdout",
     "output_type": "stream",
     "text": [
      "Artificial Intelligence\n",
      "A\n",
      "r\n",
      "t\n",
      "i\n",
      "f\n",
      "i\n",
      "c\n",
      "i\n",
      "a\n",
      "l\n",
      " \n",
      "I\n",
      "n\n",
      "t\n",
      "e\n",
      "l\n",
      "l\n",
      "i\n",
      "g\n",
      "e\n",
      "n\n",
      "c\n",
      "e\n"
     ]
    }
   ],
   "source": [
    "word = \"Artificial Intelligence\"\n",
    "print(word)\n",
    "\n",
    "for item in word:\n",
    "    print(item)"
   ]
  },
  {
   "cell_type": "code",
   "execution_count": 8,
   "id": "69364a7b",
   "metadata": {},
   "outputs": [
    {
     "name": "stdout",
     "output_type": "stream",
     "text": [
      "-Your Name - Gayathri\n",
      "-Your Age - 30\n",
      "-Your Profession - Software Engineer\n"
     ]
    }
   ],
   "source": [
    "name = input(\"-Your Name - \")\n",
    "age = int(input(\"-Your Age - \"))\n",
    "prof = input(\"-Your Profession - \")"
   ]
  },
  {
   "cell_type": "markdown",
   "id": "3cc8a8bf",
   "metadata": {},
   "source": [
    "# Program using tuples"
   ]
  },
  {
   "cell_type": "code",
   "execution_count": 9,
   "id": "e71a78a4",
   "metadata": {},
   "outputs": [
    {
     "name": "stdout",
     "output_type": "stream",
     "text": [
      "(1, 'Welcome', 2, 'Hope')\n"
     ]
    }
   ],
   "source": [
    "tuple = (1, 'Welcome', 2, 'Hope')\n",
    "print(tuple)"
   ]
  },
  {
   "cell_type": "code",
   "execution_count": 10,
   "id": "0131d277",
   "metadata": {},
   "outputs": [
    {
     "name": "stdout",
     "output_type": "stream",
     "text": [
      "((0, 1, 2, 3), ('python', 'hope'))\n"
     ]
    }
   ],
   "source": [
    "tuple1 = (0, 1, 2, 3)\n",
    "tuple2 = ('python', 'hope')\n",
    "\n",
    "tuple3 = (tuple1, tuple2)\n",
    "print(tuple3)"
   ]
  },
  {
   "cell_type": "markdown",
   "id": "5c3dac5f",
   "metadata": {},
   "source": [
    "# print Odd Numbers in the list"
   ]
  },
  {
   "cell_type": "code",
   "execution_count": 12,
   "id": "b3af7106",
   "metadata": {},
   "outputs": [
    {
     "name": "stdout",
     "output_type": "stream",
     "text": [
      "19  is odd\n",
      "25  is odd\n",
      "1  is odd\n"
     ]
    }
   ],
   "source": [
    "numList = [20,10,16,19,25,1,276,188]\n",
    "\n",
    "for item in numList:\n",
    "    odd = item % 2\n",
    "    if(odd == 1):\n",
    "        print(item, \" is odd\")"
   ]
  },
  {
   "cell_type": "markdown",
   "id": "f206b8bd",
   "metadata": {},
   "source": [
    "# print Even numbers in the list"
   ]
  },
  {
   "cell_type": "code",
   "execution_count": 15,
   "id": "d6218537",
   "metadata": {},
   "outputs": [
    {
     "name": "stdout",
     "output_type": "stream",
     "text": [
      "20  is even\n",
      "10  is even\n",
      "16  is even\n",
      "276  is even\n",
      "188  is even\n"
     ]
    }
   ],
   "source": [
    "numList = [20,10,16,19,25,1,276,188]\n",
    "\n",
    "for item in numList:\n",
    "    even = item % 2\n",
    "    if(even == 0):\n",
    "        print(item, \" is even\")"
   ]
  },
  {
   "cell_type": "code",
   "execution_count": null,
   "id": "f0444937",
   "metadata": {},
   "outputs": [],
   "source": []
  }
 ],
 "metadata": {
  "kernelspec": {
   "display_name": "Python 3 (ipykernel)",
   "language": "python",
   "name": "python3"
  },
  "language_info": {
   "codemirror_mode": {
    "name": "ipython",
    "version": 3
   },
   "file_extension": ".py",
   "mimetype": "text/x-python",
   "name": "python",
   "nbconvert_exporter": "python",
   "pygments_lexer": "ipython3",
   "version": "3.11.5"
  }
 },
 "nbformat": 4,
 "nbformat_minor": 5
}
