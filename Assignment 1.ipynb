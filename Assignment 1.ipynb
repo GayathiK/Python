{
 "cells": [
  {
   "cell_type": "code",
   "execution_count": 1,
   "id": "ea5338bf",
   "metadata": {},
   "outputs": [
    {
     "name": "stdout",
     "output_type": "stream",
     "text": [
      "Welcome to Assignment-1\n"
     ]
    }
   ],
   "source": [
    "print(\"Welcome to Assignment-1\")"
   ]
  },
  {
   "cell_type": "code",
   "execution_count": 3,
   "id": "8ef5be07",
   "metadata": {},
   "outputs": [
    {
     "name": "stdout",
     "output_type": "stream",
     "text": [
      "Num1 = 10\n",
      "Num2 = 30\n",
      "Add =  40\n"
     ]
    }
   ],
   "source": [
    "num1 = 10\n",
    "num2 = 30\n",
    "Add = num1 + num2\n",
    "print(\"Num1 =\", num1)\n",
    "print(\"Num2 =\", num2)\n",
    "print(\"Add = \", Add)"
   ]
  },
  {
   "cell_type": "code",
   "execution_count": 10,
   "id": "2e6ca481",
   "metadata": {},
   "outputs": [
    {
     "name": "stdout",
     "output_type": "stream",
     "text": [
      "Enter the BMI Index:27.6\n",
      "Overweight\n"
     ]
    }
   ],
   "source": [
    "bmi = float(input(\"Enter the BMI Index:\"))\n",
    "if(bmi < 18.5):\n",
    "    print(\"Underweight\")\n",
    "elif(bmi < 25):\n",
    "    print(\"Normal\")\n",
    "elif(bmi < 30):\n",
    "    print(\"Overweight\")\n",
    "elif(bmi < 40.1):\n",
    "    print(\"Obese\")\n",
    "else:\n",
    "    print(\"Extreme Obese\")"
   ]
  },
  {
   "cell_type": "code",
   "execution_count": null,
   "id": "1764f3cb",
   "metadata": {},
   "outputs": [],
   "source": []
  },
  {
   "cell_type": "code",
   "execution_count": null,
   "id": "aefac6b1",
   "metadata": {},
   "outputs": [],
   "source": []
  }
 ],
 "metadata": {
  "kernelspec": {
   "display_name": "Python 3 (ipykernel)",
   "language": "python",
   "name": "python3"
  },
  "language_info": {
   "codemirror_mode": {
    "name": "ipython",
    "version": 3
   },
   "file_extension": ".py",
   "mimetype": "text/x-python",
   "name": "python",
   "nbconvert_exporter": "python",
   "pygments_lexer": "ipython3",
   "version": "3.11.5"
  }
 },
 "nbformat": 4,
 "nbformat_minor": 5
}
