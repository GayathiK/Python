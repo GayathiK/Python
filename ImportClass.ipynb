{
 "cells": [
  {
   "cell_type": "code",
   "execution_count": 4,
   "id": "65b66445",
   "metadata": {},
   "outputs": [],
   "source": [
    "from MultiFunctions import multipleFunctions"
   ]
  },
  {
   "cell_type": "code",
   "execution_count": 5,
   "id": "2cf22acd",
   "metadata": {},
   "outputs": [
    {
     "name": "stdout",
     "output_type": "stream",
     "text": [
      "Sub-fields in AI are:\n",
      "Machine Learning\n",
      "Neural Networks\n",
      "Vision\n",
      "Robotics\n",
      "Speech Processing\n",
      "Natural Language Processing\n"
     ]
    }
   ],
   "source": [
    "multipleFunctions.Subfields()"
   ]
  },
  {
   "cell_type": "code",
   "execution_count": 6,
   "id": "7232ba35",
   "metadata": {},
   "outputs": [
    {
     "name": "stdout",
     "output_type": "stream",
     "text": [
      "Enter a number : 5693\n",
      "5693  is Odd number\n"
     ]
    }
   ],
   "source": [
    "num = int(input(\"Enter a number : \"))\n",
    "msg = multipleFunctions.OddEven(num)\n",
    "if(msg == \"Even number\"):\n",
    "    print(num,\" is Even number\")\n",
    "else:\n",
    "    print(num,\" is Odd number\")"
   ]
  },
  {
   "cell_type": "code",
   "execution_count": 7,
   "id": "c52d8caf",
   "metadata": {},
   "outputs": [
    {
     "name": "stdout",
     "output_type": "stream",
     "text": [
      "Your Gender : Female\n",
      "Your Age : 19\n",
      "ELIGIBLE\n"
     ]
    }
   ],
   "source": [
    "eligibility = multipleFunctions.Eligible()\n",
    "print(eligibility)"
   ]
  },
  {
   "cell_type": "code",
   "execution_count": 8,
   "id": "7ef8963e",
   "metadata": {},
   "outputs": [
    {
     "name": "stdout",
     "output_type": "stream",
     "text": [
      "Subject 1 = 98\n",
      "Subject 2 = 87\n",
      "Subject 3 = 95\n",
      "Subject 4 = 95\n",
      "Subject 5 = 93\n",
      "Total :  468\n",
      "Percentage :  93.60000000000001\n"
     ]
    }
   ],
   "source": [
    "multipleFunctions.percentage()"
   ]
  },
  {
   "cell_type": "code",
   "execution_count": 9,
   "id": "fc9c9b71",
   "metadata": {},
   "outputs": [
    {
     "name": "stdout",
     "output_type": "stream",
     "text": [
      "Breadth : 34\n",
      "Height : 32\n",
      "Area Formula : ((Height*Breadth)/ 2)\n",
      "Area of Triangle :  544.0\n",
      "Height1 : 5\n",
      "Height2 : 6\n",
      "Breadth : 8\n",
      "Perimeter Formula : Height1 + Height2 + Breadth\n",
      "Perimeter of Triangle :  19\n"
     ]
    }
   ],
   "source": [
    "multipleFunctions.triangle()"
   ]
  },
  {
   "cell_type": "code",
   "execution_count": null,
   "id": "cc4ba046",
   "metadata": {},
   "outputs": [],
   "source": []
  }
 ],
 "metadata": {
  "kernelspec": {
   "display_name": "Python 3 (ipykernel)",
   "language": "python",
   "name": "python3"
  },
  "language_info": {
   "codemirror_mode": {
    "name": "ipython",
    "version": 3
   },
   "file_extension": ".py",
   "mimetype": "text/x-python",
   "name": "python",
   "nbconvert_exporter": "python",
   "pygments_lexer": "ipython3",
   "version": "3.11.5"
  }
 },
 "nbformat": 4,
 "nbformat_minor": 5
}
